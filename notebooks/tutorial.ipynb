{
 "cells": [
  {
   "cell_type": "code",
   "execution_count": 35,
   "metadata": {},
   "outputs": [],
   "source": [
    "import camelbird as cb\n",
    "import numpy as np\n",
    "from sklearn.datasets import fetch_openml\n",
    "from sklearn.model_selection import train_test_split\n",
    "from sklearn.linear_model import LogisticRegression\n",
    "\n",
    "np.set_printoptions(precision=3)"
   ]
  },
  {
   "cell_type": "markdown",
   "metadata": {},
   "source": [
    "# Measuring Fairness\n",
    "\n",
    "First we retrieve the COMPAS data set from OpenML and train a simple logistic regression classifier."
   ]
  },
  {
   "cell_type": "code",
   "execution_count": 43,
   "metadata": {},
   "outputs": [
    {
     "data": {
      "text/plain": [
       "LogisticRegression(C=1.0, class_weight=None, dual=False, fit_intercept=True,\n",
       "                   intercept_scaling=1, l1_ratio=None, max_iter=100,\n",
       "                   multi_class='auto', n_jobs=None, penalty='l2',\n",
       "                   random_state=None, solver='lbfgs', tol=0.0001, verbose=0,\n",
       "                   warm_start=False)"
      ]
     },
     "execution_count": 43,
     "metadata": {},
     "output_type": "execute_result"
    }
   ],
   "source": [
    "# retrieve COMPAS data from openml\n",
    "compas = fetch_openml(data_id='42192')\n",
    "X = compas['data']\n",
    "y = compas['target'].astype(np.int)\n",
    "feature_names = compas['feature_names']\n",
    "\n",
    "# split train test set\n",
    "X_train, X_test, y_train, y_test = train_test_split(X, y, test_size=0.25, random_state=42)\n",
    "\n",
    "# define sensitive feature African American\n",
    "sensitive_index = feature_names.index('race_African-American')\n",
    "a_train, a_test = X_train[:,sensitive_index], X_test[:,sensitive_index]\n",
    "\n",
    "# train simple classifier\n",
    "lr = LogisticRegression()\n",
    "lr.fit(X_train, y_train)"
   ]
  },
  {
   "cell_type": "code",
   "execution_count": 44,
   "metadata": {},
   "outputs": [
    {
     "name": "stdout",
     "output_type": "stream",
     "text": [
      "Accuracy: \t\t\t 0.69\n",
      "Equal Opportunity Scores: \t [0.402 0.661]\n",
      "Equal Opportunity Difference: \t -0.26\n",
      "Equal Opportunity Ratio: \t 1.64\n"
     ]
    }
   ],
   "source": [
    "# compute accuracy\n",
    "print(\"Accuracy: \\t\\t\\t %.2f\" % lr.score(X_test, y_test))\n",
    "\n",
    "# compute fairness\n",
    "y_pred = lr.predict(X_test)\n",
    "print(\"Equal Opportunity Scores: \\t %s\" % cb.metrics.equal_opportunity(y_true = y_test, y_pred = y_pred, a = a_test, aggregate=None))\n",
    "print(\"Equal Opportunity Difference: \\t %.2f\" % cb.metrics.equal_opportunity(y_true = y_test, y_pred = y_pred, a = a_test, aggregate='diff'))\n",
    "print(\"Equal Opportunity Ratio: \\t %.2f\" % cb.metrics.equal_opportunity(y_true = y_test, y_pred = y_pred, a = a_test, aggregate='ratio'))"
   ]
  },
  {
   "cell_type": "code",
   "execution_count": null,
   "metadata": {},
   "outputs": [],
   "source": []
  }
 ],
 "metadata": {
  "kernelspec": {
   "display_name": "Python 3",
   "language": "python",
   "name": "python3"
  },
  "language_info": {
   "codemirror_mode": {
    "name": "ipython",
    "version": 3
   },
   "file_extension": ".py",
   "mimetype": "text/x-python",
   "name": "python",
   "nbconvert_exporter": "python",
   "pygments_lexer": "ipython3",
   "version": "3.8.2"
  }
 },
 "nbformat": 4,
 "nbformat_minor": 4
}
